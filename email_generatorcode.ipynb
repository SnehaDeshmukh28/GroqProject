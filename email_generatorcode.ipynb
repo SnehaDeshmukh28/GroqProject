{
 "cells": [
  {
   "cell_type": "code",
   "execution_count": 2,
   "metadata": {},
   "outputs": [],
   "source": [
    "from langchain_groq import ChatGroq"
   ]
  },
  {
   "cell_type": "code",
   "execution_count": null,
   "metadata": {},
   "outputs": [],
   "source": [
    "llm = ChatGroq(\n",
    "    temperature=0.2,\n",
    "    # groq_api_key=\"add_your_api_key\",\n",
    "    \n",
    "    model_name=\"llama-3.3-70b-versatile\",\n",
    ")"
   ]
  },
  {
   "cell_type": "code",
   "execution_count": 5,
   "metadata": {},
   "outputs": [
    {
     "name": "stderr",
     "output_type": "stream",
     "text": [
      "USER_AGENT environment variable not set, consider setting it to identify your requests.\n"
     ]
    },
    {
     "name": "stdout",
     "output_type": "stream",
     "text": [
      "Apply for Product Developer II, Global Apparel\n",
      "\n",
      "Search JobsSkip navigationSearch JobsNIKE, INC. JOBSContract JobsJoin The Talent CommunityLife @ NikeOverviewBenefitsBrandsOverviewJordanConverseTeamsOverviewAdministrative SupportAdvanced InnovationAir Manufacturing InnovationAviationCommunicationsCustomer ServiceDesignDigitalFacilitiesFinance & AccountingGovernment & Public AffairsHuman ResourcesInsights & AnalyticsLegalManufacturing & EngineeringMarketingMerchandisingPlanningPrivacyProcurementProduct Creation, Development & ManagementRetail CorporateRetail StoresSalesSocial & Community ImpactSports MarketingStrategic PlanningSupply Chain, Distribution & LogisticsSustainabilityTechnologyLocationsOverviewNike WHQNike New York HQEHQ: Hilversum, The NetherlandsELC: Laakdal, BelgiumGreater China HQDiversity, Equity & InclusionOverviewMilitary InclusionDisability InclusionIndigenous InclusionInternshipsProduct Creation, Development & ManagementProduct Developer II, Global ApparelHong Kong Island, Hong KongBecome a Part of the NIKE, Inc. TeamNIKE, Inc. does more than outfit the world’s best athletes. It is a place to explore potential, obliterate boundaries and push out the edges of what can be. The company looks for people who can grow, think, dream and create. Its culture thrives by embracing diversity and rewarding imagination. The brand seeks achievers, leaders and visionaries. At NIKE, Inc. it’s about each person bringing skills and passion to a challenging and constantly evolving game.The first spark of a product idea sets the NIKE, Inc. Product team into motion. The team of developers, testers, engineers, designers and managers obsess over Nike’s iconic silhouettes and create groundbreaking new styles. They collaborate, ideate and refine products’ construction, fit and materials. They maintain a keen understanding of consumer and market trends. They skillfully operate at the intersection of buyer needs, technical feasibility and business objectives. And they work lockstep with Merchandising, Design, Manufacturing and others to produce the final result: products that reflect the soul of sport and inspire athletes to reach new levels of performance.Core Accountabilities:The Product Developer coordinates the product creation process from initial concept to commercialization and production for assigned models.Leads on time delivery and development according to critical dates, product specification, sustainability, performance, and profitability goals.Collaborates with Design, Brand and Category Management as well as Merchandising, and Manufacturing to effectively execute product development goals and deliverables.Creates and maintains appropriate documentation for assigned products; ensures all appropriate development documentation is completed, including product specs, costing and prototype notes.Tracks and facilitates sampling and prototyping for products; identifies and addresses key issues and challenges in construction/manufacturing and plans accordingly to deliver proven and tested product.Monitors and communicates progress and challenges throughout the product testing process to meet product integrity requirements.The Product Developer keeps abreast of market trends, team goals, new technology and consumer needs throughout the development process.Engages appropriately to ensure projects are completed within corporate guidelines and goals for all facets of product creation. Requirements of the position include:Bachelor degree with at least 3 years of relevant experience.Passionate about apparel development and manufacturing.Knowledge of apparel manufacturing, costing and garment fit.Ability to read product specs and understand relationships.Demonstrated project management and problem solving skills.Team player; able to work in an environment with high inter-dependencies between teams and cross-cultural colleagues.Staunch believer in continuous self-improvement, leading with empathy, compassion and team-work.Demonstrated verbal and written communication skills with an ability to clearly articulate goals and objectives. Proficient with Microsoft Excel, PowerPoint, Word, and OutlookNIKE, Inc. is a growth company that looks for team members to grow with it. Nike offers a generous total rewards package, casual work environment, a diverse and inclusive culture, and an electric atmosphere for professional development. No matter the location, or the role, every Nike employee shares one galvanizing mission: To bring inspiration and innovation to every athlete* in the world.NIKE, Inc. is committed to employing a diverse workforce. Qualified applicants will receive consideration without regard to race, color, religion, sex, national origin, age, sexual orientation, gender identity, gender expression, veteran status, or disability.How We HireAt NIKE, Inc. we promise to provide a premium, inclusive, compelling and authentic candidate experience. Delivering on this promise means we allow you to be at your best — and to do that, you need to understand how the hiring process works. Transparency is key.\n",
      "\n",
      "* This overview explains our hiring process for corporate roles. Note there may be different hiring steps involved for non-corporate roles.Start nowBenefitsWhether it’s transportation or financial health, we continually invest in our employees to help them achieve greatness — inside and outside of work. All who work here should be able to realize their full potential.Employee Assistance ProgramHolidaysMedical PlanPaid Time Off (PTO)Product DiscountsLearn moreFIND A STOREBECOME A MEMBERSIGN UP FOR EMAILSEND US FEEDBACKSTUDENT DISCOUNTSGET HELPGET HELPOrder StatusDeliveryReturnsPayment OptionsContact Us On Nike.com InquiriesContact Us On All Other InquiriesABOUT NIKEABOUT NIKENewsCareersInvestorsSustainabilityIndia© 2024 Nike, Inc. All Rights ReservedGuidesNike AdaptNike Air MaxNike FlyleatherNike PegasusNike Zoom FlyNike AirNike FlyEaseNike FreeNike ReactNike ZoomXNike Air Force 1Nike FlyknitNike JoyrideNike VaporflyTerms of SaleTerms of UseNike Privacy Policy\n"
     ]
    }
   ],
   "source": [
    "from langchain_community.document_loaders import WebBaseLoader\n",
    "\n",
    "loader = WebBaseLoader(\"https://jobs.nike.com/job/R-36947?from=job%20search%20funnel\")\n",
    "page_data = loader.load().pop().page_content\n",
    "print(page_data)"
   ]
  },
  {
   "cell_type": "code",
   "execution_count": 6,
   "metadata": {},
   "outputs": [
    {
     "name": "stdout",
     "output_type": "stream",
     "text": [
      "```json\n",
      "{\n",
      "  \"role\": \"Product Developer II, Global Apparel\",\n",
      "  \"experience\": \"At least 3 years of relevant experience\",\n",
      "  \"skills\": [\n",
      "    \"Apparel development and manufacturing\",\n",
      "    \"Knowledge of apparel manufacturing, costing and garment fit\",\n",
      "    \"Project management and problem solving skills\",\n",
      "    \"Team player with ability to work in an environment with high inter-dependencies between teams and cross-cultural colleagues\",\n",
      "    \"Proficient with Microsoft Excel, PowerPoint, Word, and Outlook\"\n",
      "  ],\n",
      "  \"description\": \"The Product Developer coordinates the product creation process from initial concept to commercialization and production for assigned models. Leads on time delivery and development according to critical dates, product specification, sustainability, performance, and profitability goals. Collaborates with Design, Brand and Category Management as well as Merchandising, and Manufacturing to effectively execute product development goals and deliverables.\"\n",
      "}\n",
      "```\n"
     ]
    }
   ],
   "source": [
    "from langchain_core.prompts import PromptTemplate\n",
    "\n",
    "prompt_extract = PromptTemplate.from_template(\n",
    "    \"\"\" \n",
    "    ### SCRAPED TEXT FROM WEBSITE :\n",
    "    {page_data}\n",
    "    ### INSTRUCTIONS:\n",
    "    The scraped text is from the career's page of a website.\n",
    "    Your job is to extract the job postings and return them in JSON format containing the \n",
    "    following keys: `role`, `experience`, `skills` and `description`. \n",
    "    Only return the valid JSON.\n",
    "    ### VALID JSON (NO PREAMBLE):\n",
    "    \"\"\"\n",
    ")\n",
    "\n",
    "chain_extract = prompt_extract | llm\n",
    "res = chain_extract.invoke(input = {'page_data': page_data})\n",
    "print(res.content)"
   ]
  },
  {
   "cell_type": "code",
   "execution_count": null,
   "metadata": {},
   "outputs": [],
   "source": []
  }
 ],
 "metadata": {
  "kernelspec": {
   "display_name": "venv",
   "language": "python",
   "name": "python3"
  },
  "language_info": {
   "codemirror_mode": {
    "name": "ipython",
    "version": 3
   },
   "file_extension": ".py",
   "mimetype": "text/x-python",
   "name": "python",
   "nbconvert_exporter": "python",
   "pygments_lexer": "ipython3",
   "version": "3.12.4"
  }
 },
 "nbformat": 4,
 "nbformat_minor": 2
}
