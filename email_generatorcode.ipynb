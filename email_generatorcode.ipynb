{
 "cells": [
  {
   "cell_type": "code",
   "execution_count": 16,
   "metadata": {},
   "outputs": [],
   "source": [
    "import os\n",
    "from dotenv import load_dotenv\n",
    "\n",
    "# Load environment variables from the .env file\n",
    "load_dotenv()\n",
    "\n",
    "# Access the API key\n",
    "groq_api_key = os.getenv('groq_api_key')"
   ]
  },
  {
   "cell_type": "code",
   "execution_count": 17,
   "metadata": {},
   "outputs": [],
   "source": [
    "from langchain_groq import ChatGroq\n",
    "\n",
    "llm = ChatGroq(\n",
    "    temperature=0.2,\n",
    "    groq_api_key=groq_api_key,\n",
    "    model_name=\"llama-3.3-70b-versatile\",\n",
    ")"
   ]
  },
  {
   "cell_type": "code",
   "execution_count": 18,
   "metadata": {},
   "outputs": [
    {
     "name": "stdout",
     "output_type": "stream",
     "text": [
      "Apply for Graphic Designer II, Men's Global Football Apparel\n",
      "\n",
      "Search JobsSkip navigationSearch JobsNIKE, INC. JOBSContract JobsJoin The Talent CommunityLife @ NikeOverviewBenefitsBrandsOverviewJordanConverseTeamsOverviewAdministrative SupportAdvanced InnovationAir Manufacturing InnovationAviationCommunicationsCustomer ServiceDesignDigitalFacilitiesFinance & AccountingGovernment & Public AffairsHuman ResourcesInsights & AnalyticsLegalManufacturing & EngineeringMarketingMerchandisingPlanningPrivacyProcurementProduct Creation, Development & ManagementRetail CorporateRetail StoresSalesSocial & Community ImpactSports MarketingStrategic PlanningSupply Chain, Distribution & LogisticsSustainabilityTechnologyLocationsOverviewNike WHQNike New York HQEHQ: Hilversum, The NetherlandsELC: Laakdal, BelgiumGreater China HQDiversity, Equity & InclusionOverviewMilitary InclusionDisability InclusionIndigenous InclusionInternshipsDesignGraphic Designer II, Men's Global Football ApparelBeaverton, OregonBecome a Part of the NIKE, Inc. TeamNIKE, Inc. does more than outfit the world’s best athletes. It is a place to explore potential, obliterate boundaries and push out the edges of what can be. The company looks for people who can grow, think, dream and create. Its culture thrives by embracing diversity and rewarding imagination. The brand seeks achievers, leaders and visionaries. At NIKE, Inc. it’s about each person bringing skills and passion to a challenging and constantly evolving game.NIKE, Inc. designs the future. At NIKE, Inc. designers chase their curiosities and build what’s next, shaping the culture and advancing human potential. The Design teams include artists, inventors and specialists, all with different focuses, including color and material experts, and apparel, footwear and graphic designers. Nike designers look to the future, aggressively pursuing materials, ideas and forms that further elevate the athlete experience, raise the bar for modern style and reduce environmental impact.WHO ARE WE LOOKING FOR?We’re currently looking for a Graphic Designer II to contribute to the vision of Nike Global Football. Our team works on highly visible product across Global Federations, Clubs, and NWSL. We support these teams with bespoke collections comprised of game day, training and lifestyle product. This is where sport, design and culture meet and where we are redefining apparel for both athletes and fans. This role requires a high level of passion and creativity, along with the versatility and focus to contribute to graphic direction and strategy through the product creation process. Our work comes to life on the world’s biggest stages. It takes a dedicated leader and teammate that knows how to collaborate and translate sophisticated insights into authentic narratives, while driving design solutions that elevate the future of sport apparel at Nike.WHAT WILL YOU WORK ON?Groundbreaking, innovative Nike design. Concepting and building out narratives that will inspire and influence Jersey designs while incorporating our partner’s team identities. To accomplish this, you will collaborate with your design, development and business partners to ensure all details are recorded and delivered as presented. From Trims to print applications and cost considerations you will be challenged by a wide range of responsibilities and experiences. Accountabilities include but are not limited to, influencing teams, speaking with athletes* and contributing to the creative vision of Nike Global Football. Participating in team meetings and cascading critical information to ensure the project hits all deadlines. Presenting design concepts and seasonal initiatives to internal and external audiences while always keeping to Nike’s best interests.WHO WILL YOU WORK WITH?You will be executing graphic strategy and vision while working with multiple teams of designers, developers, and product managers to deliver creative in line with the Nike Design Ethos. This opportunity will require strong collaborative skills to meet deadlines, ensure feasibility of designs, hit price points, while talking your partners through the thinking behind your work.WHAT YOU WILL BRING?Bachelor’s degree in graphic design, apparel design or related design field, or equivalent combination of relevant education, experience, and training.1-4+ years relevant work experience in Graphic Design, Color Design, or Product DesignPassion and understanding of current and emerging design trends and visual culture.Ability to translate insights into authentic narratives and visual storytelling.Ability to adapt to change and handle multiple, competing priorities.Strong visual and verbal communication skills, able to effectively present design intent to internal and external audiences.Proficient in sketching, illustration, typography, print and pattern, color theory and layout.Knowledge of apparel product creation.Proficient in Adobe CC and comfortable working within new digital spaces.Ability to embrace diverse points of view while fostering an environment of inclusivity.Passion for empowering our Athletes/Teams and making their dreams come true.NIKE, Inc. is a growth company that looks for team members to grow with it. Nike offers a generous total rewards package, casual work environment, a diverse and inclusive culture, and an electric atmosphere for professional development. No matter the location, or the role, every Nike employee shares one galvanizing mission: To bring inspiration and innovation to every athlete* in the world.NIKE, Inc. is committed to employing a diverse workforce. Qualified applicants will receive consideration without regard to race, color, religion, sex, national origin, age, sexual orientation, gender identity, gender expression, veteran status, or disability.How We HireAt NIKE, Inc. we promise to provide a premium, inclusive, compelling and authentic candidate experience. Delivering on this promise means we allow you to be at your best — and to do that, you need to understand how the hiring process works. Transparency is key.\n",
      "\n",
      "* This overview explains our hiring process for corporate roles. Note there may be different hiring steps involved for non-corporate roles.Start nowBenefitsWhether it’s transportation or financial health, we continually invest in our employees to help them achieve greatness — inside and outside of work. All who work here should be able to realize their full potential.Employee Assistance ProgramEmployee Stock Purchase Plan (ESPP)HolidaysMedical PlanPaid Time Off (PTO)Product DiscountsSabbaticalsLearn moreFIND A STOREBECOME A MEMBERSIGN UP FOR EMAILSEND US FEEDBACKSTUDENT DISCOUNTSGET HELPGET HELPOrder StatusDeliveryReturnsPayment OptionsContact Us On Nike.com InquiriesContact Us On All Other InquiriesABOUT NIKEABOUT NIKENewsCareersInvestorsSustainabilityIndia© 2024 Nike, Inc. All Rights ReservedGuidesNike AdaptNike Air MaxNike FlyleatherNike PegasusNike Zoom FlyNike AirNike FlyEaseNike FreeNike ReactNike ZoomXNike Air Force 1Nike FlyknitNike JoyrideNike VaporflyTerms of SaleTerms of UseNike Privacy Policy\n"
     ]
    }
   ],
   "source": [
    "from langchain_community.document_loaders import WebBaseLoader\n",
    "\n",
    "loader = WebBaseLoader(\"https://jobs.nike.com/job/R-43459?from=job%20search%20funnel\")\n",
    "page_data = loader.load().pop().page_content\n",
    "print(page_data)"
   ]
  },
  {
   "cell_type": "code",
   "execution_count": 19,
   "metadata": {},
   "outputs": [
    {
     "name": "stdout",
     "output_type": "stream",
     "text": [
      "```json\n",
      "{\n",
      "  \"role\": \"Graphic Designer II, Men's Global Football Apparel\",\n",
      "  \"experience\": \"1-4+ years\",\n",
      "  \"skills\": [\n",
      "    \"Graphic Design\",\n",
      "    \"Color Design\",\n",
      "    \"Product Design\",\n",
      "    \"Sketching\",\n",
      "    \"Illustration\",\n",
      "    \"Typography\",\n",
      "    \"Print and pattern\",\n",
      "    \"Color theory\",\n",
      "    \"Layout\",\n",
      "    \"Adobe CC\"\n",
      "  ],\n",
      "  \"description\": \"We’re currently looking for a Graphic Designer II to contribute to the vision of Nike Global Football. Our team works on highly visible product across Global Federations, Clubs, and NWSL. We support these teams with bespoke collections comprised of game day, training and lifestyle product.\"\n",
      "}\n",
      "```\n"
     ]
    },
    {
     "data": {
      "text/plain": [
       "str"
      ]
     },
     "execution_count": 19,
     "metadata": {},
     "output_type": "execute_result"
    }
   ],
   "source": [
    "from langchain_core.prompts import PromptTemplate\n",
    "\n",
    "prompt_extract = PromptTemplate.from_template(\n",
    "    \"\"\" \n",
    "    ### SCRAPED TEXT FROM WEBSITE :\n",
    "    {page_data}\n",
    "    ### INSTRUCTIONS:\n",
    "    The scraped text is from the career's page of a website.\n",
    "    Your job is to extract the job postings and return them in JSON format containing the \n",
    "    following keys: `role`, `experience`, `skills` and `description`. \n",
    "    Only return the valid JSON.\n",
    "    ### VALID JSON (NO PREAMBLE):\n",
    "    \"\"\"\n",
    ")\n",
    "\n",
    "chain_extract = prompt_extract | llm\n",
    "res = chain_extract.invoke(input = {'page_data': page_data})\n",
    "print(res.content)\n",
    "type(res.content)"
   ]
  },
  {
   "cell_type": "code",
   "execution_count": 24,
   "metadata": {},
   "outputs": [
    {
     "data": {
      "text/plain": [
       "{'role': \"Graphic Designer II, Men's Global Football Apparel\",\n",
       " 'experience': '1-4+ years',\n",
       " 'skills': ['Graphic Design',\n",
       "  'Color Design',\n",
       "  'Product Design',\n",
       "  'Sketching',\n",
       "  'Illustration',\n",
       "  'Typography',\n",
       "  'Print and pattern',\n",
       "  'Color theory',\n",
       "  'Layout',\n",
       "  'Adobe CC'],\n",
       " 'description': 'We’re currently looking for a Graphic Designer II to contribute to the vision of Nike Global Football. Our team works on highly visible product across Global Federations, Clubs, and NWSL. We support these teams with bespoke collections comprised of game day, training and lifestyle product.'}"
      ]
     },
     "execution_count": 24,
     "metadata": {},
     "output_type": "execute_result"
    }
   ],
   "source": [
    "from langchain_core.output_parsers import JsonOutputParser\n",
    "\n",
    "json_parser = JsonOutputParser()\n",
    "json_res = json_parser.parse(res.content)\n",
    "json_res"
   ]
  },
  {
   "cell_type": "code",
   "execution_count": 25,
   "metadata": {},
   "outputs": [
    {
     "data": {
      "text/plain": [
       "dict"
      ]
     },
     "execution_count": 25,
     "metadata": {},
     "output_type": "execute_result"
    }
   ],
   "source": [
    "type(json_res)"
   ]
  },
  {
   "cell_type": "code",
   "execution_count": null,
   "metadata": {},
   "outputs": [],
   "source": []
  }
 ],
 "metadata": {
  "kernelspec": {
   "display_name": "venv",
   "language": "python",
   "name": "python3"
  },
  "language_info": {
   "codemirror_mode": {
    "name": "ipython",
    "version": 3
   },
   "file_extension": ".py",
   "mimetype": "text/x-python",
   "name": "python",
   "nbconvert_exporter": "python",
   "pygments_lexer": "ipython3",
   "version": "3.12.4"
  }
 },
 "nbformat": 4,
 "nbformat_minor": 2
}
